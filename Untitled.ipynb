{
 "cells": [
  {
   "cell_type": "code",
   "execution_count": 3,
   "metadata": {},
   "outputs": [],
   "source": [
    "def genetic_assignment(pop1, pop2, pop3, genotype):\n",
    "    \"\"\"\n",
    "    Each pop should be a dictionary with keys 'A', 'a', 'B', 'b', and 'Prior.'\n",
    "    They should *not* be population objects from the Population class in this module.\n",
    "    \n",
    "    Genotype should be specified as a list of alleles, e.g., ['A', 'A', 'B', 'B'].\n",
    "    \"\"\"\n",
    "    locus1genotype  = genotype[0:2]\n",
    "    locus2genotype = genotype[2:4]\n",
    "\n",
    "    allelesFreqsPop1 = {\n",
    "        'A': pop1['A'],\n",
    "        'a': pop1['a'],\n",
    "        'B': pop1['B'],\n",
    "        'b': pop1['b']\n",
    "    }\n",
    "\n",
    "    locus1conditionalPop1 = allelesFreqsPop1[locus1genotype[0]]*allelesFreqsPop1[locus1genotype[1]]\n",
    "    locus2conditionalPop1 = allelesFreqsPop1[locus2genotype[0]]*allelesFreqsPop1[locus2genotype[1]]\n",
    "    multilocusConditionalPop1 = locus1conditionalPop1*locus2conditionalPop1\n",
    "\n",
    "    locus1genotypeProbPop1 = locus1conditionalPop1*pop1['Prior']\n",
    "    locus2genotypeProbPop1 = locus2conditionalPop1*pop1['Prior']\n",
    "    multilocusGenotypeProbPop1 = multilocusConditionalPop1*pop1['Prior']\n",
    "\n",
    "    allelesFreqsPop2 = {\n",
    "        'A': pop2['A'],\n",
    "        'a': pop2['a'],\n",
    "        'B': pop2['B'],\n",
    "        'b': pop2['b']\n",
    "    }\n",
    "\n",
    "    locus1conditionalPop2 = allelesFreqsPop2[locus1genotype[0]]*allelesFreqsPop2[locus1genotype[1]]\n",
    "    locus2conditionalPop2 = allelesFreqsPop2[locus2genotype[0]]*allelesFreqsPop2[locus2genotype[1]]\n",
    "    multilocusConditionalPop2 = locus1conditionalPop2*locus2conditionalPop2\n",
    "\n",
    "    locus1genotypeProbPop2 = locus1conditionalPop2*pop2['Prior']\n",
    "    locus2genotypeProbPop2 = locus2conditionalPop2*pop2['Prior']\n",
    "    multilocusGenotypeProbPop2 = multilocusConditionalPop2*pop2['Prior']\n",
    "\n",
    "    allelesFreqsPop3 = {\n",
    "        'A': pop3['A'],\n",
    "        'a': pop3['a'],\n",
    "        'B': pop3['B'],\n",
    "        'b': pop3['b']\n",
    "    }\n",
    "\n",
    "    locus1conditionalPop3 = allelesFreqsPop3[locus1genotype[0]]*allelesFreqsPop3[locus1genotype[1]]\n",
    "    locus2conditionalPop3 = allelesFreqsPop3[locus2genotype[0]]*allelesFreqsPop3[locus2genotype[1]]\n",
    "    multilocusConditionalPop3 = locus1conditionalPop3*locus2conditionalPop3\n",
    "\n",
    "    locus1genotypeProbPop3 = locus1conditionalPop3*pop3['Prior']\n",
    "    locus2genotypeProbPop3 = locus2conditionalPop3*pop3['Prior']\n",
    "    multilocusGenotypeProbPop3 = multilocusConditionalPop3*pop3['Prior']\n",
    "\n",
    "    locus1posteriorProbs = {\n",
    "        'Pop1': round((locus1conditionalPop1*pop1['Prior']) / \n",
    "        (locus1genotypeProbPop1+locus1genotypeProbPop2+locus1genotypeProbPop3), 2),\n",
    "        'Pop2': round((locus1conditionalPop2*pop2['Prior']) / \n",
    "        (locus1genotypeProbPop1+locus1genotypeProbPop2+locus1genotypeProbPop3), 2),\n",
    "        'Pop3': round((locus1conditionalPop3*pop3['Prior']) / \n",
    "        (locus1genotypeProbPop1+locus1genotypeProbPop2+locus1genotypeProbPop3), 2)\n",
    "    }\n",
    "\n",
    "    locus2posteriorProbs = {\n",
    "        'Pop1': round((locus2conditionalPop1*pop1['Prior']) / \n",
    "        (locus2genotypeProbPop1+locus2genotypeProbPop2+locus2genotypeProbPop3), 2),\n",
    "        'Pop2': round((locus2conditionalPop2*pop2['Prior']) / \n",
    "        (locus2genotypeProbPop1+locus2genotypeProbPop2+locus2genotypeProbPop3), 2),\n",
    "        'Pop3': round((locus2conditionalPop3*pop3['Prior']) / \n",
    "        (locus2genotypeProbPop1+locus2genotypeProbPop2+locus2genotypeProbPop3), 2)\n",
    "    }\n",
    "\n",
    "    multilocusPosteriorProbs = {\n",
    "        'Pop1': round((multilocusConditionalPop1*pop1['Prior']) / \n",
    "        (multilocusGenotypeProbPop1+multilocusGenotypeProbPop2+multilocusGenotypeProbPop3), 2),\n",
    "        'Pop2': round((multilocusConditionalPop2*pop2['Prior']) / \n",
    "        (multilocusGenotypeProbPop1+multilocusGenotypeProbPop2+multilocusGenotypeProbPop3), 2),\n",
    "        'Pop3': round((multilocusConditionalPop3*pop3['Prior']) / \n",
    "        (multilocusGenotypeProbPop1+multilocusGenotypeProbPop2+multilocusGenotypeProbPop3), 2)\n",
    "    }\n",
    "\n",
    "    return f'A Locus: {locus1posteriorProbs}\\nB Locus: {locus2posteriorProbs}\\nMultilocus: {multilocusPosteriorProbs}'"
   ]
  },
  {
   "cell_type": "code",
   "execution_count": 4,
   "metadata": {},
   "outputs": [],
   "source": [
    "pop1 = {'A': 0.5, 'a': 0.5, 'B': 0.8, 'b': 0.2, 'Prior': 0.33}\n",
    "pop2 = {'A': 0.2, 'a': 0.8, 'B': 0.7, 'b': 0.3, 'Prior': 0.33}\n",
    "pop3 = {'A': 0.8, 'a': 0.2, 'B': 0.2, 'b': 0.8, 'Prior': 0.33}"
   ]
  },
  {
   "cell_type": "code",
   "execution_count": 7,
   "metadata": {},
   "outputs": [
    {
     "name": "stdout",
     "output_type": "stream",
     "text": [
      "A Locus: {'Pop1': 0.27, 'Pop2': 0.04, 'Pop3': 0.69}\n",
      "B Locus: {'Pop1': 0.55, 'Pop2': 0.42, 'Pop3': 0.03}\n",
      "Multilocus: {'Pop1': 0.78, 'Pop2': 0.1, 'Pop3': 0.12}\n"
     ]
    }
   ],
   "source": [
    "print(genetic_assignment(pop1, pop2, pop3, genotype=['A', 'A', 'B', 'B']))"
   ]
  },
  {
   "cell_type": "code",
   "execution_count": null,
   "metadata": {},
   "outputs": [],
   "source": []
  }
 ],
 "metadata": {
  "kernelspec": {
   "display_name": "Python 3",
   "language": "python",
   "name": "python3"
  },
  "language_info": {
   "codemirror_mode": {
    "name": "ipython",
    "version": 3
   },
   "file_extension": ".py",
   "mimetype": "text/x-python",
   "name": "python",
   "nbconvert_exporter": "python",
   "pygments_lexer": "ipython3",
   "version": "3.8.5"
  }
 },
 "nbformat": 4,
 "nbformat_minor": 4
}
